{
 "cells": [
  {
   "cell_type": "code",
   "execution_count": null,
   "id": "693de777",
   "metadata": {},
   "outputs": [],
   "source": [
    "import pandas as pd\n",
    "import matplotlib.pyplot as plt\n",
    "import torch\n",
    "import torchvision\n",
    "import torchvision.transforms as transforms\n",
    "import numpy as np\n",
    "import torch.nn.functional as F\n",
    "from torch.utils.data import DataLoader, Dataset\n",
    "from sklearn.model_selection import train_test_split\n",
    "from sklearn.preprocessing import LabelEncoder"
   ]
  },
  {
   "cell_type": "code",
   "execution_count": null,
   "id": "74922b9d",
   "metadata": {},
   "outputs": [],
   "source": [
    "import os"
   ]
  },
  {
   "cell_type": "code",
   "execution_count": null,
   "id": "915a88f2",
   "metadata": {},
   "outputs": [],
   "source": [
    "df = pd.read_csv(r'train.csv')"
   ]
  },
  {
   "cell_type": "code",
   "execution_count": null,
   "id": "50f78d76",
   "metadata": {},
   "outputs": [],
   "source": [
    "le = LabelEncoder()\n",
    "df['Class'] = le.fit_transform(df['Class'])"
   ]
  },
  {
   "cell_type": "code",
   "execution_count": null,
   "id": "dcc9936a",
   "metadata": {},
   "outputs": [],
   "source": [
    "test = pd.read_csv(r'test.csv')"
   ]
  },
  {
   "cell_type": "code",
   "execution_count": null,
   "id": "a73d8323",
   "metadata": {},
   "outputs": [],
   "source": [
    "for i in range(df.shape[0]):\n",
    "    df.iloc[i, 0] = \"Train Images/\"+df.iloc[i, 0]"
   ]
  },
  {
   "cell_type": "code",
   "execution_count": null,
   "id": "da126cbd",
   "metadata": {},
   "outputs": [],
   "source": [
    "for i in range(len(test)):\n",
    "    test.iloc[i, 0] = \"Test Images/\"+test.iloc[i, 0]"
   ]
  },
  {
   "cell_type": "code",
   "execution_count": null,
   "id": "f420cf4c",
   "metadata": {},
   "outputs": [],
   "source": [
    "import matplotlib.image as img"
   ]
  },
  {
   "cell_type": "code",
   "execution_count": null,
   "id": "2e377eb8",
   "metadata": {},
   "outputs": [],
   "source": [
    "class SplitDataset(Dataset):\n",
    "    def __init__(self, data, transform = None):\n",
    "        super().__init__()\n",
    "        self.data = data.values\n",
    "        self.transform = transform\n",
    "        \n",
    "    def __len__(self):\n",
    "        return len(self.data)\n",
    "    \n",
    "    def __getitem__(self, index):\n",
    "        img_path, label = self.data[index]\n",
    "        image = img.imread(img_path)\n",
    "#         print(\"Before\", image.shape)\n",
    "        if self.transform is not None:\n",
    "            image = self.transform(image)\n",
    "#         print(image.shape)\n",
    "        return image, label"
   ]
  },
  {
   "cell_type": "code",
   "execution_count": null,
   "id": "18a263ec",
   "metadata": {},
   "outputs": [],
   "source": [
    "im_d = 224"
   ]
  },
  {
   "cell_type": "code",
   "execution_count": null,
   "id": "9eedd209",
   "metadata": {},
   "outputs": [],
   "source": [
    "train_transform = transforms.Compose([transforms.ToPILImage(), transforms.Resize((im_d, im_d)),\n",
    "                                    transforms.Grayscale(),\n",
    "                                     transforms.ToTensor(),\n",
    "                                      transforms.Normalize(mean=[0.5], std=[0.5])])\n",
    "valid_transform = transforms.Compose([transforms.ToPILImage(),transforms.Resize((im_d, im_d)),transforms.Grayscale(),\n",
    "                                     transforms.ToTensor(), transforms.Normalize(mean=[0.5], std=[0.5])])\n",
    "                                     #transforms.Normalize(mean=[0.485, 0.456, 0.406],\n",
    "#        std=[0.229, 0.224, 0.225])])\n",
    "test_transform = transforms.Compose([transforms.ToPILImage(),transforms.Resize((im_d, im_d)),transforms.Grayscale(),\n",
    "                                     transforms.ToTensor(),\n",
    "                                     transforms.Normalize(mean=[0.5], std=[0.5])])"
   ]
  },
  {
   "cell_type": "code",
   "execution_count": null,
   "id": "efc84d3d",
   "metadata": {},
   "outputs": [],
   "source": [
    "train, validate = train_test_split(df, test_size=0.2)"
   ]
  },
  {
   "cell_type": "code",
   "execution_count": null,
   "id": "86a8c5ed",
   "metadata": {},
   "outputs": [],
   "source": [
    "train_data = SplitDataset(train, train_transform)\n",
    "valid_data = SplitDataset(validate, valid_transform)\n",
    "test_data = SplitDataset(test, test_transform)"
   ]
  },
  {
   "cell_type": "code",
   "execution_count": null,
   "id": "fa867e81",
   "metadata": {},
   "outputs": [],
   "source": [
    "epochs = 2\n",
    "batch_size = 32\n",
    "n_classes = 4\n",
    "learning_rate = 0.001"
   ]
  },
  {
   "cell_type": "code",
   "execution_count": null,
   "id": "723e9b98",
   "metadata": {},
   "outputs": [],
   "source": [
    "device = torch.device(\"cuda:0\" if torch.cuda.is_available() else \"cpu\")"
   ]
  },
  {
   "cell_type": "code",
   "execution_count": null,
   "id": "33ab5710",
   "metadata": {},
   "outputs": [],
   "source": [
    "train_loader = DataLoader(train_data, batch_size=batch_size, shuffle=True)#, #num_workers=0)\n",
    "valid_loader = DataLoader(valid_data, batch_size=batch_size, shuffle=False)#, #num_workers=0)\n",
    "test_loader = DataLoader(test_data, batch_size=batch_size, shuffle=False)#, num_workers=0)"
   ]
  },
  {
   "cell_type": "code",
   "execution_count": null,
   "id": "5aaa2aeb",
   "metadata": {},
   "outputs": [],
   "source": [
    "import torch.nn as nn"
   ]
  },
  {
   "cell_type": "code",
   "execution_count": null,
   "id": "8f2bb5c8",
   "metadata": {},
   "outputs": [],
   "source": [
    "class CNN(nn.Module):\n",
    "    def __init__(self):\n",
    "        super(CNN, self).__init__()\n",
    "        self.conv1 = nn.Conv2d(in_channels=1, out_channels=10, kernel_size=3)\n",
    "        self.conv2 = nn.Conv2d(10, 20, kernel_size=3)\n",
    "        self.conv2_drop = nn.Dropout2d()\n",
    "        self.fc1 = nn.Linear(1, 1024)\n",
    "        self.fc2 = nn.Linear(1024, 4)\n",
    "        \n",
    "    def forward(self, x):\n",
    "        x = F.relu(F.max_pool2d(self.conv1(x), 2))\n",
    "        x = F.relu(F.max_pool2d(self.conv2_drop(self.conv2(x)), 2))\n",
    "#         print(x.shape)\n",
    "        x = x.view(x.shape[0], -1)\n",
    "        print(x.shape)\n",
    "        x = x.unsqueeze(-1)\n",
    "        x = F.relu(self.fc1(x))\n",
    "        x = F.dropout(x, training=self.training)\n",
    "        x = self.fc2(x)\n",
    "#         print(x)\n",
    "        return x"
   ]
  },
  {
   "cell_type": "code",
   "execution_count": null,
   "id": "f7dbff46",
   "metadata": {},
   "outputs": [],
   "source": [
    "model = CNN()"
   ]
  },
  {
   "cell_type": "code",
   "execution_count": null,
   "id": "9d1d6674",
   "metadata": {},
   "outputs": [],
   "source": [
    "train_losses = []\n",
    "test_losses = []"
   ]
  },
  {
   "cell_type": "code",
   "execution_count": null,
   "id": "6064659b",
   "metadata": {},
   "outputs": [],
   "source": [
    "model.to(device)\n",
    "criterion = nn.CrossEntropyLoss()\n",
    "optimizer = torch.optim.Adam(model.parameters(), lr = learning_rate)"
   ]
  },
  {
   "cell_type": "code",
   "execution_count": null,
   "id": "bedd4e5f",
   "metadata": {},
   "outputs": [],
   "source": [
    "import time"
   ]
  },
  {
   "cell_type": "code",
   "execution_count": null,
   "id": "bffede38",
   "metadata": {
    "scrolled": false
   },
   "outputs": [],
   "source": [
    "for i in range(epochs):\n",
    "    start = time.time()\n",
    "    train_loss = 0.0\n",
    "    test_loss = 0.0\n",
    "    model.train()\n",
    "    for data, target in train_loader:\n",
    "        data = data.to(device)\n",
    "#         print(target)\n",
    "        target = torch.Tensor(target).to(device)\n",
    "        optimizer.zero_grad()\n",
    "        output = model(data)\n",
    "        loss = criterion(output, target)\n",
    "        loss.backward()\n",
    "        optimizer.step()\n",
    "        train_loss += loss.item() * data.size(0)\n",
    "        \n",
    "    model.eval()\n",
    "    for data, target in valid_loader:\n",
    "        data = data.to(device)\n",
    "        target = torch.Tensor(target).to(device)\n",
    "        output = model(data)\n",
    "        loss = criterion(output, target)\n",
    "        test_loss += loss.item() * data.size(0)\n",
    "        \n",
    "    train_loss = train_loss/len(train_loader.sampler)\n",
    "    test_loss = test_loss/len(valid_loader.sampler)\n",
    "    end = time.time()\n",
    "    print('Epoch: {} \\tTraining Loss: {:.6f} \\tValidation Loss: {:.6f} \\tTime: {:.6f}'.format(\n",
    "        i, train_loss, test_loss, (end-start)))"
   ]
  },
  {
   "cell_type": "code",
   "execution_count": null,
   "id": "d43db5ed",
   "metadata": {},
   "outputs": [],
   "source": [
    "ok = test[:5]"
   ]
  },
  {
   "cell_type": "code",
   "execution_count": null,
   "id": "966903e5",
   "metadata": {},
   "outputs": [],
   "source": [
    "pred = test_transform(img.imread(test.iloc[0, 0]))"
   ]
  },
  {
   "cell_type": "code",
   "execution_count": null,
   "id": "018ccf26",
   "metadata": {},
   "outputs": [],
   "source": [
    "out = model(pred)"
   ]
  },
  {
   "cell_type": "code",
   "execution_count": null,
   "id": "5d3f5222",
   "metadata": {},
   "outputs": [],
   "source": []
  }
 ],
 "metadata": {
  "kernelspec": {
   "display_name": "Python 3 (ipykernel)",
   "language": "python",
   "name": "python3"
  },
  "language_info": {
   "codemirror_mode": {
    "name": "ipython",
    "version": 3
   },
   "file_extension": ".py",
   "mimetype": "text/x-python",
   "name": "python",
   "nbconvert_exporter": "python",
   "pygments_lexer": "ipython3",
   "version": "3.9.12"
  }
 },
 "nbformat": 4,
 "nbformat_minor": 5
}
