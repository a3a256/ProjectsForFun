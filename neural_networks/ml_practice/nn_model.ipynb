{
 "cells": [
  {
   "cell_type": "code",
   "execution_count": 204,
   "id": "0cd9cecc",
   "metadata": {},
   "outputs": [],
   "source": [
    "import torch\n",
    "import pandas as pd\n",
    "import numpy as np\n",
    "import matplotlib.pyplot as plt\n",
    "import seaborn as sns\n",
    "%matplotlib inline"
   ]
  },
  {
   "cell_type": "code",
   "execution_count": 205,
   "id": "018e8024",
   "metadata": {},
   "outputs": [],
   "source": [
    "from sklearn.model_selection import train_test_split"
   ]
  },
  {
   "cell_type": "code",
   "execution_count": 206,
   "id": "23ea3952",
   "metadata": {},
   "outputs": [],
   "source": [
    "ds = pd.read_csv(r'ready_for_nn.csv')"
   ]
  },
  {
   "cell_type": "code",
   "execution_count": 207,
   "id": "bceb3a40",
   "metadata": {},
   "outputs": [
    {
     "data": {
      "text/plain": [
       "(1338, 7)"
      ]
     },
     "execution_count": 207,
     "metadata": {},
     "output_type": "execute_result"
    }
   ],
   "source": [
    "df.shape"
   ]
  },
  {
   "cell_type": "code",
   "execution_count": 208,
   "id": "04fdc77e",
   "metadata": {},
   "outputs": [],
   "source": [
    "ids = [0, 2, 3, 6]"
   ]
  },
  {
   "cell_type": "code",
   "execution_count": 209,
   "id": "837ad786",
   "metadata": {},
   "outputs": [],
   "source": [
    "categorical = [1, 4, 5]"
   ]
  },
  {
   "cell_type": "code",
   "execution_count": 210,
   "id": "211168f3",
   "metadata": {},
   "outputs": [],
   "source": [
    "from sklearn.preprocessing import StandardScaler"
   ]
  },
  {
   "cell_type": "code",
   "execution_count": 211,
   "id": "5f9d47bd",
   "metadata": {},
   "outputs": [],
   "source": [
    "df = ds.copy()"
   ]
  },
  {
   "cell_type": "code",
   "execution_count": 212,
   "id": "79de4514",
   "metadata": {},
   "outputs": [],
   "source": [
    "scaler = StandardScaler()\n",
    "df.iloc[:, ids] = scaler.fit_transform(df.iloc[:, ids])"
   ]
  },
  {
   "cell_type": "code",
   "execution_count": 213,
   "id": "b74382cc",
   "metadata": {},
   "outputs": [],
   "source": [
    "x = df.iloc[:, :-1].values\n",
    "y = df.iloc[:, -1].values"
   ]
  },
  {
   "cell_type": "code",
   "execution_count": 214,
   "id": "9dd1b428",
   "metadata": {},
   "outputs": [],
   "source": [
    "x_train, x_test, y_train, y_test = train_test_split(x, y, random_state=42, test_size=0.2)"
   ]
  },
  {
   "cell_type": "code",
   "execution_count": 215,
   "id": "b687f35c",
   "metadata": {},
   "outputs": [],
   "source": [
    "y_data = torch.Tensor(y_train.astype(\"int\"))\n",
    "x_data = torch.Tensor(x_train.astype(\"int\"))"
   ]
  },
  {
   "cell_type": "code",
   "execution_count": 216,
   "id": "3b2626ea",
   "metadata": {},
   "outputs": [],
   "source": [
    "x_data = x_data.type(torch.FloatTensor)"
   ]
  },
  {
   "cell_type": "code",
   "execution_count": 217,
   "id": "f7af1c5c",
   "metadata": {},
   "outputs": [],
   "source": [
    "y_data = y_data.type(torch.FloatTensor)"
   ]
  },
  {
   "cell_type": "code",
   "execution_count": 218,
   "id": "05481e91",
   "metadata": {},
   "outputs": [],
   "source": [
    "class LinearModel(torch.nn.Module):\n",
    "    def __init__(self):\n",
    "        super(LinearModel, self).__init__()\n",
    "        self.linear = torch.nn.Linear(6, 1)\n",
    "        \n",
    "    def forward(self, x):\n",
    "        y_pred = self.linear(x)\n",
    "        return y_pred"
   ]
  },
  {
   "cell_type": "code",
   "execution_count": 219,
   "id": "8ff97ecc",
   "metadata": {},
   "outputs": [],
   "source": [
    "model = LinearModel()"
   ]
  },
  {
   "cell_type": "code",
   "execution_count": 220,
   "id": "c1f143cf",
   "metadata": {},
   "outputs": [],
   "source": [
    "critetion = torch.nn.MSELoss()\n",
    "optimizer = torch.optim.SGD(model.parameters(), lr=0.01)"
   ]
  },
  {
   "cell_type": "code",
   "execution_count": 221,
   "id": "baab596e",
   "metadata": {},
   "outputs": [
    {
     "name": "stderr",
     "output_type": "stream",
     "text": [
      "C:\\Users\\Azamat.Ilyasov\\Anaconda3\\lib\\site-packages\\torch\\nn\\modules\\loss.py:536: UserWarning: Using a target size (torch.Size([1070])) that is different to the input size (torch.Size([1070, 1])). This will likely lead to incorrect results due to broadcasting. Please ensure they have the same size.\n",
      "  return F.mse_loss(input, target, reduction=self.reduction)\n"
     ]
    },
    {
     "name": "stdout",
     "output_type": "stream",
     "text": [
      "epoch 0, loss 0.6424748301506042\n",
      "epoch 1, loss 0.6377177238464355\n",
      "epoch 2, loss 0.6330752968788147\n",
      "epoch 3, loss 0.6285398602485657\n",
      "epoch 4, loss 0.6241050362586975\n",
      "epoch 5, loss 0.6197652816772461\n",
      "epoch 6, loss 0.6155156493186951\n",
      "epoch 7, loss 0.6113520264625549\n",
      "epoch 8, loss 0.6072707772254944\n",
      "epoch 9, loss 0.6032686233520508\n",
      "epoch 10, loss 0.5993425250053406\n",
      "epoch 11, loss 0.5954901576042175\n",
      "epoch 12, loss 0.5917090773582458\n",
      "epoch 13, loss 0.5879971385002136\n",
      "epoch 14, loss 0.5843526124954224\n",
      "epoch 15, loss 0.5807735323905945\n",
      "epoch 16, loss 0.5772584080696106\n",
      "epoch 17, loss 0.573805570602417\n",
      "epoch 18, loss 0.5704137086868286\n",
      "epoch 19, loss 0.5670813918113708\n",
      "epoch 20, loss 0.5638074278831482\n",
      "epoch 21, loss 0.5605906844139099\n",
      "epoch 22, loss 0.5574297904968262\n",
      "epoch 23, loss 0.5543237328529358\n",
      "epoch 24, loss 0.551271378993988\n",
      "epoch 25, loss 0.5482717752456665\n",
      "epoch 26, loss 0.54532390832901\n",
      "epoch 27, loss 0.5424268245697021\n",
      "epoch 28, loss 0.5395795702934265\n",
      "epoch 29, loss 0.5367811322212219\n",
      "epoch 30, loss 0.5340307354927063\n",
      "epoch 31, loss 0.531327486038208\n",
      "epoch 32, loss 0.5286704897880554\n",
      "epoch 33, loss 0.5260589122772217\n",
      "epoch 34, loss 0.5234919786453247\n",
      "epoch 35, loss 0.5209689140319824\n",
      "epoch 36, loss 0.5184889435768127\n",
      "epoch 37, loss 0.516051173210144\n",
      "epoch 38, loss 0.5136550068855286\n",
      "epoch 39, loss 0.5112996101379395\n"
     ]
    }
   ],
   "source": [
    "for epoch in range(40):\n",
    "    model.train()\n",
    "    pred_y = model(x_data)\n",
    "    loss = critetion(pred_y, y_data)\n",
    "    loss.backward()\n",
    "    optimizer.step()\n",
    "    optimizer.zero_grad()\n",
    "    print('epoch {}, loss {}'.format(epoch, loss.item()))"
   ]
  },
  {
   "cell_type": "code",
   "execution_count": 222,
   "id": "53b02d30",
   "metadata": {},
   "outputs": [],
   "source": [
    "p_x = torch.Tensor(x_test)\n",
    "p_x = p_x.type(torch.FloatTensor)"
   ]
  },
  {
   "cell_type": "code",
   "execution_count": 223,
   "id": "f1e4e2a6",
   "metadata": {},
   "outputs": [],
   "source": [
    "model.eval()\n",
    "pred = model(p_x).detach().numpy()"
   ]
  },
  {
   "cell_type": "code",
   "execution_count": 224,
   "id": "9b52c50c",
   "metadata": {},
   "outputs": [
    {
     "data": {
      "text/plain": [
       "array([[ 3.61836255e-02],\n",
       "       [ 3.51359516e-01],\n",
       "       [ 1.01180518e+00],\n",
       "       [-1.85179651e-01],\n",
       "       [-1.45674348e-01],\n",
       "       [-1.24257751e-01],\n",
       "       [ 3.36103708e-01],\n",
       "       [ 2.91394174e-01],\n",
       "       [ 4.39902633e-01],\n",
       "       [-2.39417434e-01],\n",
       "       [ 1.45333230e-01],\n",
       "       [-2.34597504e-01],\n",
       "       [ 2.76215345e-01],\n",
       "       [-4.50146258e-01],\n",
       "       [ 4.38209981e-01],\n",
       "       [-1.11136861e-01],\n",
       "       [-5.83206788e-02],\n",
       "       [ 4.15161848e-01],\n",
       "       [ 6.09215081e-01],\n",
       "       [ 6.67280734e-01],\n",
       "       [-4.15707082e-01],\n",
       "       [ 1.82413816e-01],\n",
       "       [ 2.71581650e-01],\n",
       "       [-4.49467510e-01],\n",
       "       [ 3.93493995e-02],\n",
       "       [ 3.25817794e-01],\n",
       "       [ 1.02145433e+00],\n",
       "       [-4.18081462e-01],\n",
       "       [ 1.89363137e-02],\n",
       "       [ 3.69047001e-02],\n",
       "       [ 8.58339295e-02],\n",
       "       [ 6.32475615e-01],\n",
       "       [ 1.62298501e-01],\n",
       "       [-1.76326185e-03],\n",
       "       [ 1.97661906e-01],\n",
       "       [-3.14468533e-01],\n",
       "       [ 4.84434813e-01],\n",
       "       [ 7.22412825e-01],\n",
       "       [ 7.08902180e-01],\n",
       "       [ 4.25941870e-02],\n",
       "       [-4.36912775e-01],\n",
       "       [-3.70195359e-01],\n",
       "       [ 7.28427351e-01],\n",
       "       [ 6.46547735e-01],\n",
       "       [-3.19707125e-01],\n",
       "       [ 8.26880455e-01],\n",
       "       [-4.27171588e-01],\n",
       "       [ 2.18204170e-01],\n",
       "       [-2.75239557e-01],\n",
       "       [-4.45260137e-01],\n",
       "       [ 8.01112413e-01],\n",
       "       [-1.38858676e-01],\n",
       "       [-1.86302871e-01],\n",
       "       [-2.76860625e-01],\n",
       "       [ 5.09625375e-01],\n",
       "       [-3.67745221e-01],\n",
       "       [-5.66285923e-02],\n",
       "       [-6.44011021e-01],\n",
       "       [ 1.05890107e+00],\n",
       "       [ 2.89388210e-01],\n",
       "       [ 1.18659866e+00],\n",
       "       [-3.85490090e-01],\n",
       "       [ 1.51955217e-01],\n",
       "       [ 2.21045047e-01],\n",
       "       [ 3.56414229e-01],\n",
       "       [ 1.60802186e-01],\n",
       "       [-2.50800997e-01],\n",
       "       [ 1.17650859e-01],\n",
       "       [ 2.31726378e-01],\n",
       "       [ 1.12348050e-03],\n",
       "       [-5.35341859e-01],\n",
       "       [-1.97706223e-01],\n",
       "       [ 6.59357369e-01],\n",
       "       [-1.01480909e-01],\n",
       "       [-1.75776556e-02],\n",
       "       [ 5.82277000e-01],\n",
       "       [-9.64580774e-01],\n",
       "       [ 8.32992673e-01],\n",
       "       [-6.27941191e-02],\n",
       "       [ 4.97141689e-01],\n",
       "       [-4.23456654e-02],\n",
       "       [ 5.15925944e-01],\n",
       "       [ 3.42647731e-01],\n",
       "       [-6.37607574e-01],\n",
       "       [-7.97634721e-01],\n",
       "       [ 1.38841957e-01],\n",
       "       [-4.24897581e-01],\n",
       "       [ 3.23953778e-01],\n",
       "       [ 3.72143164e-02],\n",
       "       [ 3.14324349e-03],\n",
       "       [-1.38785332e-01],\n",
       "       [ 1.37603819e+00],\n",
       "       [ 3.29385191e-01],\n",
       "       [-5.22605777e-01],\n",
       "       [-2.59446725e-02],\n",
       "       [ 1.63653612e-01],\n",
       "       [ 1.97230786e-01],\n",
       "       [ 2.11584240e-01],\n",
       "       [-4.09674421e-02],\n",
       "       [-6.78046122e-02],\n",
       "       [ 1.06844805e-01],\n",
       "       [ 5.66612720e-01],\n",
       "       [ 5.87331578e-02],\n",
       "       [ 6.99256286e-02],\n",
       "       [ 5.15363276e-01],\n",
       "       [-3.43662083e-01],\n",
       "       [ 3.85119170e-02],\n",
       "       [ 1.02665579e+00],\n",
       "       [-1.13334067e-01],\n",
       "       [ 9.96624291e-01],\n",
       "       [ 1.76732719e-01],\n",
       "       [-6.10428870e-01],\n",
       "       [ 1.98640466e-01],\n",
       "       [-8.74657035e-02],\n",
       "       [ 1.07720844e-01],\n",
       "       [-6.16130233e-03],\n",
       "       [ 3.25418979e-01],\n",
       "       [ 7.22963095e-01],\n",
       "       [ 1.62143528e-01],\n",
       "       [-2.13623881e-01],\n",
       "       [-2.25137204e-01],\n",
       "       [-3.61414015e-01],\n",
       "       [-3.12856376e-01],\n",
       "       [-6.55989125e-02],\n",
       "       [ 3.14094052e-02],\n",
       "       [-7.90294558e-02],\n",
       "       [ 2.93366462e-01],\n",
       "       [-1.01243630e-01],\n",
       "       [ 7.74130940e-01],\n",
       "       [-2.94536680e-01],\n",
       "       [ 5.51431239e-01],\n",
       "       [-4.39473301e-01],\n",
       "       [-4.84222546e-02],\n",
       "       [-1.87348500e-02],\n",
       "       [ 7.57727206e-01],\n",
       "       [ 4.89639908e-01],\n",
       "       [-3.51150334e-01],\n",
       "       [ 7.53919184e-01],\n",
       "       [ 2.59852529e-01],\n",
       "       [ 2.04612285e-01],\n",
       "       [ 4.61489648e-01],\n",
       "       [ 2.33215451e-01],\n",
       "       [-1.73302367e-02],\n",
       "       [-5.54162934e-02],\n",
       "       [ 3.06314856e-01],\n",
       "       [ 6.17703497e-01],\n",
       "       [-2.55714774e-01],\n",
       "       [ 7.56457925e-01],\n",
       "       [-2.34587759e-01],\n",
       "       [ 3.27750653e-01],\n",
       "       [-1.27512693e-01],\n",
       "       [ 2.04828054e-01],\n",
       "       [-3.49516809e-01],\n",
       "       [-4.22685802e-01],\n",
       "       [-1.89079225e-01],\n",
       "       [-3.14720750e-01],\n",
       "       [ 2.34751582e-01],\n",
       "       [ 5.79250395e-01],\n",
       "       [ 2.82263726e-01],\n",
       "       [-2.61402905e-01],\n",
       "       [ 1.58512592e-02],\n",
       "       [ 1.98234171e-02],\n",
       "       [ 7.72842824e-01],\n",
       "       [-1.38097286e-01],\n",
       "       [-3.52030486e-01],\n",
       "       [-2.22288609e-01],\n",
       "       [ 1.07028580e+00],\n",
       "       [ 7.46786177e-01],\n",
       "       [-1.45720065e-01],\n",
       "       [ 6.15867317e-01],\n",
       "       [ 1.12295973e+00],\n",
       "       [ 5.65453112e-01],\n",
       "       [-5.13022423e-01],\n",
       "       [-3.23173180e-02],\n",
       "       [ 6.79063141e-01],\n",
       "       [ 5.66974461e-01],\n",
       "       [ 4.57380205e-01],\n",
       "       [ 4.28341001e-01],\n",
       "       [ 4.01568413e-01],\n",
       "       [ 9.36167777e-01],\n",
       "       [ 7.37959087e-01],\n",
       "       [ 1.38934672e-01],\n",
       "       [ 4.53775018e-01],\n",
       "       [ 4.41268474e-01],\n",
       "       [-5.78017533e-01],\n",
       "       [ 3.76837626e-02],\n",
       "       [-4.22687560e-01],\n",
       "       [ 7.89232969e-01],\n",
       "       [ 1.89392194e-02],\n",
       "       [ 5.04166722e-01],\n",
       "       [-5.06599128e-01],\n",
       "       [-1.41316205e-01],\n",
       "       [ 1.34555966e-01],\n",
       "       [-5.34858331e-02],\n",
       "       [ 4.53492373e-01],\n",
       "       [ 6.81525707e-01],\n",
       "       [ 6.32080361e-02],\n",
       "       [ 5.36831245e-02],\n",
       "       [-4.11978886e-02],\n",
       "       [ 1.19112289e+00],\n",
       "       [ 4.60957021e-01],\n",
       "       [ 5.55910408e-01],\n",
       "       [-6.66469514e-01],\n",
       "       [-4.78723109e-01],\n",
       "       [ 3.16117048e-01],\n",
       "       [ 7.07191408e-01],\n",
       "       [ 4.65521723e-01],\n",
       "       [-1.79732502e-01],\n",
       "       [ 1.77438855e-01],\n",
       "       [ 7.46782124e-01],\n",
       "       [ 1.29319942e+00],\n",
       "       [ 9.32656229e-01],\n",
       "       [-7.51694143e-01],\n",
       "       [ 3.67299765e-01],\n",
       "       [ 1.73827440e-01],\n",
       "       [ 9.89394709e-02],\n",
       "       [ 3.88209641e-01],\n",
       "       [ 4.24594820e-01],\n",
       "       [ 1.16536582e+00],\n",
       "       [ 2.12353855e-01],\n",
       "       [-9.49659571e-02],\n",
       "       [-9.34580341e-02],\n",
       "       [-8.35589468e-01],\n",
       "       [-1.45846784e-01],\n",
       "       [-1.94080710e-01],\n",
       "       [ 2.37814605e-01],\n",
       "       [ 8.58185351e-01],\n",
       "       [-1.89902097e-01],\n",
       "       [ 3.79351526e-01],\n",
       "       [-4.21440095e-01],\n",
       "       [-1.49594635e-01],\n",
       "       [ 1.01794529e+00],\n",
       "       [ 4.76101965e-01],\n",
       "       [ 8.47609460e-01],\n",
       "       [ 1.02433944e+00],\n",
       "       [ 3.09771210e-01],\n",
       "       [-4.90698189e-01],\n",
       "       [ 5.18939734e-01],\n",
       "       [-1.06400996e-03],\n",
       "       [-2.49906406e-02],\n",
       "       [ 9.28182065e-01],\n",
       "       [-5.81942871e-02],\n",
       "       [ 1.40423700e-02],\n",
       "       [ 2.15404958e-01],\n",
       "       [ 3.22677195e-04],\n",
       "       [-9.17470306e-02],\n",
       "       [ 3.57821256e-01],\n",
       "       [ 2.43403614e-01],\n",
       "       [-7.60517418e-01],\n",
       "       [ 2.70642102e-01],\n",
       "       [ 5.58428168e-01],\n",
       "       [-1.64465785e-01],\n",
       "       [ 8.23166668e-01],\n",
       "       [ 7.42136002e-01],\n",
       "       [-1.93762302e-01],\n",
       "       [ 1.17850505e-01],\n",
       "       [ 9.96918261e-01],\n",
       "       [-3.94678205e-01],\n",
       "       [ 3.58539551e-01],\n",
       "       [-5.83199680e-01],\n",
       "       [-1.44733489e-01],\n",
       "       [ 1.07521164e+00],\n",
       "       [ 3.10285598e-01],\n",
       "       [ 6.92231238e-01],\n",
       "       [ 8.12408149e-01],\n",
       "       [-2.18300551e-01],\n",
       "       [ 3.54123056e-01],\n",
       "       [ 7.02604532e-01]], dtype=float32)"
      ]
     },
     "execution_count": 224,
     "metadata": {},
     "output_type": "execute_result"
    }
   ],
   "source": [
    "pred"
   ]
  },
  {
   "cell_type": "code",
   "execution_count": 225,
   "id": "b17b1390",
   "metadata": {},
   "outputs": [],
   "source": [
    "numerical = np.hstack([x_test, pred])\n",
    "numerical = scaler.inverse_transform(numerical[:, ids])"
   ]
  },
  {
   "cell_type": "code",
   "execution_count": 226,
   "id": "de6c7109",
   "metadata": {},
   "outputs": [],
   "source": [
    "from sklearn.metrics import r2_score"
   ]
  },
  {
   "cell_type": "code",
   "execution_count": 227,
   "id": "865ae107",
   "metadata": {},
   "outputs": [
    {
     "data": {
      "text/plain": [
       "<matplotlib.collections.PathCollection at 0x21851923430>"
      ]
     },
     "execution_count": 227,
     "metadata": {},
     "output_type": "execute_result"
    },
    {
     "data": {
      "image/png": "[encoded data removed]",
      "text/plain": [
       "<Figure size 432x288 with 1 Axes>"
      ]
     },
     "metadata": {
      "needs_background": "light"
     },
     "output_type": "display_data"
    }
   ],
   "source": [
    "plt.scatter(x_test[:, 2], pred)\n",
    "plt.scatter(x_test[:, 2], y_test)"
   ]
  },
  {
   "cell_type": "code",
   "execution_count": 228,
   "id": "f9279df7",
   "metadata": {},
   "outputs": [
    {
     "data": {
      "text/plain": [
       "-4.835577898020298"
      ]
     },
     "execution_count": 228,
     "metadata": {},
     "output_type": "execute_result"
    }
   ],
   "source": [
    "r2_score(pred, y_test)"
   ]
  },
  {
   "cell_type": "code",
   "execution_count": null,
   "id": "b7f7bed3",
   "metadata": {},
   "outputs": [],
   "source": []
  }
 ],
 "metadata": {
  "kernelspec": {
   "display_name": "Python 3 (ipykernel)",
   "language": "python",
   "name": "python3"
  },
  "language_info": {
   "codemirror_mode": {
    "name": "ipython",
    "version": 3
   },
   "file_extension": ".py",
   "mimetype": "text/x-python",
   "name": "python",
   "nbconvert_exporter": "python",
   "pygments_lexer": "ipython3",
   "version": "3.9.12"
  }
 },
 "nbformat": 4,
 "nbformat_minor": 5
}
