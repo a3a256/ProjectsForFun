{
 "cells": [
  {
   "cell_type": "code",
   "execution_count": 1,
   "id": "36b06af8",
   "metadata": {},
   "outputs": [],
   "source": [
    "import torch\n",
    "import pandas as pd\n",
    "import numpy as np"
   ]
  },
  {
   "cell_type": "code",
   "execution_count": 2,
   "id": "264eb845",
   "metadata": {},
   "outputs": [],
   "source": [
    "from sklearn.preprocessing import LabelEncoder\n",
    "from sklearn.preprocessing import StandardScaler"
   ]
  },
  {
   "cell_type": "code",
   "execution_count": 3,
   "id": "0b0f8a9a",
   "metadata": {},
   "outputs": [],
   "source": [
    "from sklearn.model_selection import train_test_split"
   ]
  },
  {
   "cell_type": "code",
   "execution_count": 4,
   "id": "c3c08463",
   "metadata": {},
   "outputs": [],
   "source": [
    "from sklearn.metrics import accuracy_score"
   ]
  },
  {
   "cell_type": "code",
   "execution_count": 5,
   "id": "9dbe35b2",
   "metadata": {},
   "outputs": [],
   "source": [
    "def remove_outliers(df, column):\n",
    "    perc = np.percentile(df[column], [0, 25, 50, 75, 100])\n",
    "    iqr = perc[3] - perc[1]\n",
    "    min_ = perc[1]-iqr*1.5\n",
    "    max_ = perc[3]+iqr*1.5\n",
    "    index_max = df[df[column]>max_].index\n",
    "    index_min = df[df[column]<min_].index\n",
    "    if len(index_max)>0:\n",
    "        df.loc[index_max, column] = max_\n",
    "    if len(index_min)>0:\n",
    "        df.loc[index_min, column] = min_\n",
    "    \n",
    "    return df"
   ]
  },
  {
   "cell_type": "code",
   "execution_count": 6,
   "id": "67095637",
   "metadata": {},
   "outputs": [],
   "source": [
    "df = pd.read_csv(r'breast-cancer.csv')"
   ]
  },
  {
   "cell_type": "code",
   "execution_count": 7,
   "id": "b366cdee",
   "metadata": {},
   "outputs": [],
   "source": [
    "df.drop(\"id\", axis=1, inplace=True)"
   ]
  },
  {
   "cell_type": "code",
   "execution_count": 8,
   "id": "ea418ada",
   "metadata": {},
   "outputs": [],
   "source": [
    "cols = df.columns[1:]"
   ]
  },
  {
   "cell_type": "code",
   "execution_count": 9,
   "id": "4c086d38",
   "metadata": {},
   "outputs": [],
   "source": [
    "for i in cols:\n",
    "    df = remove_outliers(df, i)"
   ]
  },
  {
   "cell_type": "code",
   "execution_count": 10,
   "id": "db7c9627",
   "metadata": {},
   "outputs": [],
   "source": [
    "le = LabelEncoder()\n",
    "df[\"diagnosis\"] = le.fit_transform(df[\"diagnosis\"])"
   ]
  },
  {
   "cell_type": "code",
   "execution_count": 11,
   "id": "90a67e2a",
   "metadata": {},
   "outputs": [],
   "source": [
    "x = df.iloc[:, 1:].values\n",
    "y = df.iloc[:, 0].values"
   ]
  },
  {
   "cell_type": "code",
   "execution_count": 12,
   "id": "085ecaa8",
   "metadata": {},
   "outputs": [],
   "source": [
    "sc = StandardScaler()\n",
    "x = sc.fit_transform(x)"
   ]
  },
  {
   "cell_type": "code",
   "execution_count": 13,
   "id": "85f4d5b1",
   "metadata": {},
   "outputs": [],
   "source": [
    "x_train, x_test, y_train, y_test = train_test_split(x, y, random_state=42, test_size=0.2)"
   ]
  },
  {
   "cell_type": "code",
   "execution_count": 14,
   "id": "78e587e6",
   "metadata": {},
   "outputs": [],
   "source": [
    "x_train = torch.Tensor(x_train).type(torch.FloatTensor)\n",
    "y_train = torch.Tensor(y_train).type(torch.FloatTensor)"
   ]
  },
  {
   "cell_type": "code",
   "execution_count": 15,
   "id": "ede13be3",
   "metadata": {},
   "outputs": [
    {
     "data": {
      "text/plain": [
       "(569, 30)"
      ]
     },
     "execution_count": 15,
     "metadata": {},
     "output_type": "execute_result"
    }
   ],
   "source": [
    "x.shape"
   ]
  },
  {
   "cell_type": "code",
   "execution_count": 16,
   "id": "e46d6e95",
   "metadata": {},
   "outputs": [],
   "source": [
    "class LGRegression(torch.nn.Module):\n",
    "    def __init__(self):\n",
    "        super(LGRegression, self).__init__()\n",
    "        self.linear = torch.nn.Linear(30, 1)\n",
    "        self.func = torch.nn.Sigmoid()\n",
    "        \n",
    "    def forward(self, x):\n",
    "        x = self.linear(x)\n",
    "        return self.func(x)"
   ]
  },
  {
   "cell_type": "code",
   "execution_count": 17,
   "id": "fe2284fb",
   "metadata": {},
   "outputs": [],
   "source": [
    "model = LGRegression()"
   ]
  },
  {
   "cell_type": "code",
   "execution_count": 18,
   "id": "a7f2be37",
   "metadata": {},
   "outputs": [],
   "source": [
    "criterion = torch.nn.MSELoss()\n",
    "optimizer = torch.optim.SGD(model.parameters(), lr=0.01)"
   ]
  },
  {
   "cell_type": "code",
   "execution_count": 19,
   "id": "b227ebb9",
   "metadata": {},
   "outputs": [
    {
     "name": "stderr",
     "output_type": "stream",
     "text": [
      "C:\\Users\\Azamat.Ilyasov\\Anaconda3\\lib\\site-packages\\torch\\nn\\modules\\loss.py:536: UserWarning: Using a target size (torch.Size([455])) that is different to the input size (torch.Size([455, 1])). This will likely lead to incorrect results due to broadcasting. Please ensure they have the same size.\n",
      "  return F.mse_loss(input, target, reduction=self.reduction)\n"
     ]
    },
    {
     "name": "stdout",
     "output_type": "stream",
     "text": [
      "Epoch 0, loss: 0.2689504623413086\n",
      "Epoch 10000, loss: 0.23358210921287537\n",
      "Epoch 20000, loss: 0.23352505266666412\n",
      "Epoch 30000, loss: 0.2335054874420166\n",
      "Epoch 40000, loss: 0.2334950864315033\n"
     ]
    }
   ],
   "source": [
    "for epoch in range(50_000):\n",
    "    y_pred = model(x_train)\n",
    "    loss = criterion(y_pred, y_train)\n",
    "    loss.backward()\n",
    "    optimizer.step()\n",
    "    optimizer.zero_grad()\n",
    "    if epoch%10000 == 0:\n",
    "        print(\"Epoch {}, loss: {}\".format(str(epoch), loss.item()))"
   ]
  },
  {
   "cell_type": "code",
   "execution_count": 20,
   "id": "a88a2628",
   "metadata": {},
   "outputs": [],
   "source": [
    "predict_x = torch.Tensor(x_test).type(torch.FloatTensor)\n",
    "y_hat = model(predict_x).detach().numpy()"
   ]
  },
  {
   "cell_type": "code",
   "execution_count": 21,
   "id": "9d3a1c40",
   "metadata": {},
   "outputs": [],
   "source": [
    "exact = [1 if x>0.5 else 0 for x in y_hat]"
   ]
  },
  {
   "cell_type": "code",
   "execution_count": 22,
   "id": "dac29782",
   "metadata": {},
   "outputs": [
    {
     "data": {
      "text/plain": [
       "0.6228070175438597"
      ]
     },
     "execution_count": 22,
     "metadata": {},
     "output_type": "execute_result"
    }
   ],
   "source": [
    "accuracy_score(exact, y_test)"
   ]
  }
 ],
 "metadata": {
  "kernelspec": {
   "display_name": "Python 3 (ipykernel)",
   "language": "python",
   "name": "python3"
  },
  "language_info": {
   "codemirror_mode": {
    "name": "ipython",
    "version": 3
   },
   "file_extension": ".py",
   "mimetype": "text/x-python",
   "name": "python",
   "nbconvert_exporter": "python",
   "pygments_lexer": "ipython3",
   "version": "3.9.12"
  }
 },
 "nbformat": 4,
 "nbformat_minor": 5
}
