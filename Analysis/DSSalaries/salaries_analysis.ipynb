{
 "cells": [
  {
   "cell_type": "code",
   "execution_count": 70,
   "metadata": {},
   "outputs": [],
   "source": [
    "import pandas as pd\n",
    "import numpy as np\n",
    "import matplotlib.pyplot as plt\n",
    "import seaborn as sns\n",
    "%matplotlib inline"
   ]
  },
  {
   "cell_type": "code",
   "execution_count": 71,
   "metadata": {},
   "outputs": [],
   "source": [
    "from sklearn.preprocessing import StandardScaler\n",
    "from sklearn.preprocessing import LabelEncoder"
   ]
  },
  {
   "cell_type": "code",
   "execution_count": 72,
   "metadata": {},
   "outputs": [],
   "source": [
    "from sklearn.model_selection import train_test_split\n",
    "from sklearn.model_selection import GridSearchCV"
   ]
  },
  {
   "cell_type": "code",
   "execution_count": 73,
   "metadata": {},
   "outputs": [],
   "source": [
    "from sklearn.ensemble import RandomForestRegressor\n",
    "from sklearn.tree import DecisionTreeRegressor\n",
    "from sklearn.neighbors import KNeighborsRegressor\n",
    "from sklearn.linear_model import LinearRegression"
   ]
  },
  {
   "cell_type": "code",
   "execution_count": 74,
   "metadata": {},
   "outputs": [],
   "source": [
    "from sklearn.metrics import mean_absolute_error\n",
    "from sklearn.metrics import mean_squared_error\n",
    "from sklearn.metrics import r2_score"
   ]
  },
  {
   "cell_type": "code",
   "execution_count": 75,
   "metadata": {},
   "outputs": [
    {
     "data": {
      "text/html": [
       "<div>\n",
       "<style scoped>\n",
       "    .dataframe tbody tr th:only-of-type {\n",
       "        vertical-align: middle;\n",
       "    }\n",
       "\n",
       "    .dataframe tbody tr th {\n",
       "        vertical-align: top;\n",
       "    }\n",
       "\n",
       "    .dataframe thead th {\n",
       "        text-align: right;\n",
       "    }\n",
       "</style>\n",
       "<table border=\"1\" class=\"dataframe\">\n",
       "  <thead>\n",
       "    <tr style=\"text-align: right;\">\n",
       "      <th></th>\n",
       "      <th>work_year</th>\n",
       "      <th>experience_level</th>\n",
       "      <th>employment_type</th>\n",
       "      <th>job_title</th>\n",
       "      <th>salary</th>\n",
       "      <th>salary_currency</th>\n",
       "      <th>salary_in_usd</th>\n",
       "      <th>employee_residence</th>\n",
       "      <th>remote_ratio</th>\n",
       "      <th>company_location</th>\n",
       "      <th>company_size</th>\n",
       "    </tr>\n",
       "  </thead>\n",
       "  <tbody>\n",
       "    <tr>\n",
       "      <th>0</th>\n",
       "      <td>2020</td>\n",
       "      <td>MI</td>\n",
       "      <td>FT</td>\n",
       "      <td>Data Scientist</td>\n",
       "      <td>70000</td>\n",
       "      <td>EUR</td>\n",
       "      <td>79833</td>\n",
       "      <td>DE</td>\n",
       "      <td>0</td>\n",
       "      <td>DE</td>\n",
       "      <td>L</td>\n",
       "    </tr>\n",
       "    <tr>\n",
       "      <th>1</th>\n",
       "      <td>2020</td>\n",
       "      <td>SE</td>\n",
       "      <td>FT</td>\n",
       "      <td>Machine Learning Scientist</td>\n",
       "      <td>260000</td>\n",
       "      <td>USD</td>\n",
       "      <td>260000</td>\n",
       "      <td>JP</td>\n",
       "      <td>0</td>\n",
       "      <td>JP</td>\n",
       "      <td>S</td>\n",
       "    </tr>\n",
       "    <tr>\n",
       "      <th>2</th>\n",
       "      <td>2020</td>\n",
       "      <td>SE</td>\n",
       "      <td>FT</td>\n",
       "      <td>Big Data Engineer</td>\n",
       "      <td>85000</td>\n",
       "      <td>GBP</td>\n",
       "      <td>109024</td>\n",
       "      <td>GB</td>\n",
       "      <td>50</td>\n",
       "      <td>GB</td>\n",
       "      <td>M</td>\n",
       "    </tr>\n",
       "    <tr>\n",
       "      <th>3</th>\n",
       "      <td>2020</td>\n",
       "      <td>MI</td>\n",
       "      <td>FT</td>\n",
       "      <td>Product Data Analyst</td>\n",
       "      <td>20000</td>\n",
       "      <td>USD</td>\n",
       "      <td>20000</td>\n",
       "      <td>HN</td>\n",
       "      <td>0</td>\n",
       "      <td>HN</td>\n",
       "      <td>S</td>\n",
       "    </tr>\n",
       "    <tr>\n",
       "      <th>4</th>\n",
       "      <td>2020</td>\n",
       "      <td>SE</td>\n",
       "      <td>FT</td>\n",
       "      <td>Machine Learning Engineer</td>\n",
       "      <td>150000</td>\n",
       "      <td>USD</td>\n",
       "      <td>150000</td>\n",
       "      <td>US</td>\n",
       "      <td>50</td>\n",
       "      <td>US</td>\n",
       "      <td>L</td>\n",
       "    </tr>\n",
       "  </tbody>\n",
       "</table>\n",
       "</div>"
      ],
      "text/plain": [
       "   work_year experience_level employment_type                   job_title  \\\n",
       "0       2020               MI              FT              Data Scientist   \n",
       "1       2020               SE              FT  Machine Learning Scientist   \n",
       "2       2020               SE              FT           Big Data Engineer   \n",
       "3       2020               MI              FT        Product Data Analyst   \n",
       "4       2020               SE              FT   Machine Learning Engineer   \n",
       "\n",
       "   salary salary_currency  salary_in_usd employee_residence  remote_ratio  \\\n",
       "0   70000             EUR          79833                 DE             0   \n",
       "1  260000             USD         260000                 JP             0   \n",
       "2   85000             GBP         109024                 GB            50   \n",
       "3   20000             USD          20000                 HN             0   \n",
       "4  150000             USD         150000                 US            50   \n",
       "\n",
       "  company_location company_size  \n",
       "0               DE            L  \n",
       "1               JP            S  \n",
       "2               GB            M  \n",
       "3               HN            S  \n",
       "4               US            L  "
      ]
     },
     "execution_count": 75,
     "metadata": {},
     "output_type": "execute_result"
    }
   ],
   "source": [
    "df = pd.read_csv(r'ds_salaries.csv')\n",
    "df.drop(['Unnamed: 0'], axis=1, inplace=True)\n",
    "df.head(5)"
   ]
  },
  {
   "cell_type": "code",
   "execution_count": 76,
   "metadata": {},
   "outputs": [
    {
     "name": "stdout",
     "output_type": "stream",
     "text": [
      "<class 'pandas.core.frame.DataFrame'>\n",
      "RangeIndex: 607 entries, 0 to 606\n",
      "Data columns (total 11 columns):\n",
      " #   Column              Non-Null Count  Dtype \n",
      "---  ------              --------------  ----- \n",
      " 0   work_year           607 non-null    int64 \n",
      " 1   experience_level    607 non-null    object\n",
      " 2   employment_type     607 non-null    object\n",
      " 3   job_title           607 non-null    object\n",
      " 4   salary              607 non-null    int64 \n",
      " 5   salary_currency     607 non-null    object\n",
      " 6   salary_in_usd       607 non-null    int64 \n",
      " 7   employee_residence  607 non-null    object\n",
      " 8   remote_ratio        607 non-null    int64 \n",
      " 9   company_location    607 non-null    object\n",
      " 10  company_size        607 non-null    object\n",
      "dtypes: int64(4), object(7)\n",
      "memory usage: 52.3+ KB\n"
     ]
    }
   ],
   "source": [
    "df.info()"
   ]
  },
  {
   "cell_type": "code",
   "execution_count": 77,
   "metadata": {},
   "outputs": [
    {
     "data": {
      "text/plain": [
       "(607, 11)"
      ]
     },
     "execution_count": 77,
     "metadata": {},
     "output_type": "execute_result"
    }
   ],
   "source": [
    "df.shape"
   ]
  },
  {
   "cell_type": "code",
   "execution_count": 78,
   "metadata": {},
   "outputs": [
    {
     "name": "stdout",
     "output_type": "stream",
     "text": [
      "SE    280\n",
      "MI    213\n",
      "EN     88\n",
      "EX     26\n",
      "Name: experience_level, dtype: int64\n",
      "FT    588\n",
      "PT     10\n",
      "CT      5\n",
      "FL      4\n",
      "Name: employment_type, dtype: int64\n",
      "100    381\n",
      "0      127\n",
      "50      99\n",
      "Name: remote_ratio, dtype: int64\n",
      "M    326\n",
      "L    198\n",
      "S     83\n",
      "Name: company_size, dtype: int64\n"
     ]
    }
   ],
   "source": [
    "count = ['experience_level', 'employment_type', 'remote_ratio', 'company_size']\n",
    "for i in count:\n",
    "    print(df[i].value_counts())"
   ]
  },
  {
   "cell_type": "code",
   "execution_count": 79,
   "metadata": {},
   "outputs": [],
   "source": [
    "def show_barplots(xn, y, df, hue_param=None):\n",
    "    plt.figure(figsize=(10, 6))\n",
    "    ax = 0\n",
    "    if not hue_param:\n",
    "        ax = sns.barplot(x=xn,\n",
    "        y='salary_in_usd',\n",
    "        ci=None,\n",
    "        data=df)\n",
    "    else:\n",
    "        ax = sns.barplot(x=xn,\n",
    "        y='salary_in_usd',\n",
    "        ci=None,\n",
    "        hue=hue_param,\n",
    "        data=df)\n",
    "    for p in ax.patches:\n",
    "        ax.annotate(format(p.get_height(), '.1f'), \n",
    "                    (p.get_x() + p.get_width() / 2., p.get_height()), \n",
    "                    ha = 'center', va = 'center', \n",
    "                    xytext = (0, 9), \n",
    "                    textcoords = 'offset points')\n",
    "    plt.ylabel(\"Salaries in USD\")\n",
    "    plt.show()"
   ]
  },
  {
   "cell_type": "code",
   "execution_count": 80,
   "metadata": {},
   "outputs": [
    {
     "data": {
      "image/png": "[encoded data removed]",
      "text/plain": [
       "<Figure size 720x432 with 1 Axes>"
      ]
     },
     "metadata": {
      "needs_background": "light"
     },
     "output_type": "display_data"
    },
    {
     "data": {
      "image/png": "[encoded data removed]",
      "text/plain": [
       "<Figure size 720x432 with 1 Axes>"
      ]
     },
     "metadata": {
      "needs_background": "light"
     },
     "output_type": "display_data"
    },
    {
     "data": {
      "image/png": "[encoded data removed]",
      "text/plain": [
       "<Figure size 720x432 with 1 Axes>"
      ]
     },
     "metadata": {
      "needs_background": "light"
     },
     "output_type": "display_data"
    },
    {
     "data": {
      "image/png": "[encoded data removed]",
      "text/plain": [
       "<Figure size 720x432 with 1 Axes>"
      ]
     },
     "metadata": {
      "needs_background": "light"
     },
     "output_type": "display_data"
    }
   ],
   "source": [
    "x_axis = ['experience_level', 'remote_ratio', 'company_size', 'work_year']\n",
    "for x in x_axis:\n",
    "    show_barplots(x, 'salary_in_usd', df)"
   ]
  },
  {
   "cell_type": "code",
   "execution_count": 81,
   "metadata": {},
   "outputs": [
    {
     "data": {
      "image/png": "[encoded data removed]",
      "text/plain": [
       "<Figure size 720x432 with 1 Axes>"
      ]
     },
     "metadata": {
      "needs_background": "light"
     },
     "output_type": "display_data"
    },
    {
     "data": {
      "image/png": "[encoded data removed]",
      "text/plain": [
       "<Figure size 720x432 with 1 Axes>"
      ]
     },
     "metadata": {
      "needs_background": "light"
     },
     "output_type": "display_data"
    },
    {
     "data": {
      "image/png": "[encoded data removed]",
      "text/plain": [
       "<Figure size 720x432 with 1 Axes>"
      ]
     },
     "metadata": {
      "needs_background": "light"
     },
     "output_type": "display_data"
    }
   ],
   "source": [
    "hues = ['experience_level', 'remote_ratio', 'company_size']\n",
    "for hue in hues:\n",
    "    show_barplots('work_year', 'salay_in_usd', df, hue)"
   ]
  },
  {
   "cell_type": "code",
   "execution_count": 82,
   "metadata": {},
   "outputs": [
    {
     "name": "stdout",
     "output_type": "stream",
     "text": [
      "100    36\n",
      "50     21\n",
      "0      15\n",
      "Name: remote_ratio, dtype: int64\n",
      "100    117\n",
      "50      66\n",
      "0       34\n",
      "Name: remote_ratio, dtype: int64\n",
      "100    228\n",
      "0       78\n",
      "50      12\n",
      "Name: remote_ratio, dtype: int64\n"
     ]
    }
   ],
   "source": [
    "for x in [2020, 2021, 2022]:\n",
    "    print(df[df['work_year'] == x]['remote_ratio'].value_counts())"
   ]
  },
  {
   "cell_type": "code",
   "execution_count": 83,
   "metadata": {},
   "outputs": [
    {
     "data": {
      "text/plain": [
       "<AxesSubplot:xlabel='salary_in_usd'>"
      ]
     },
     "execution_count": 83,
     "metadata": {},
     "output_type": "execute_result"
    },
    {
     "data": {
      "image/png": "[encoded data removed]",
      "text/plain": [
       "<Figure size 432x288 with 1 Axes>"
      ]
     },
     "metadata": {
      "needs_background": "light"
     },
     "output_type": "display_data"
    }
   ],
   "source": [
    "sns.boxplot(x='salary_in_usd', data=df)"
   ]
  },
  {
   "cell_type": "code",
   "execution_count": 84,
   "metadata": {},
   "outputs": [],
   "source": [
    "quantiles = np.percentile(df['salary_in_usd'], [0, 25, 50, 75, 100])\n",
    "iqr = quantiles[3] - quantiles[1]\n",
    "min_bound = quantiles[1] - iqr*1.5\n",
    "max_bound = quantiles[3] + iqr*1.5\n",
    "over_indexes = df.loc[df['salary_in_usd'] > max_bound, 'salary_in_usd'].index\n",
    "if not over_indexes.empty:\n",
    "    df.loc[over_indexes, 'salary_in_usd'] = max_bound\n",
    "under_indexes = df.loc[df['salary_in_usd'] < min_bound, 'salary_in_usd'].index\n",
    "if not under_indexes.empty:\n",
    "    df.loc[under_indexes, 'salary_in_usd'] = min_bound"
   ]
  },
  {
   "cell_type": "code",
   "execution_count": 85,
   "metadata": {},
   "outputs": [
    {
     "data": {
      "text/plain": [
       "<AxesSubplot:xlabel='salary_in_usd'>"
      ]
     },
     "execution_count": 85,
     "metadata": {},
     "output_type": "execute_result"
    },
    {
     "data": {
      "image/png": "[encoded data removed]",
      "text/plain": [
       "<Figure size 432x288 with 1 Axes>"
      ]
     },
     "metadata": {
      "needs_background": "light"
     },
     "output_type": "display_data"
    }
   ],
   "source": [
    "sns.boxplot(x='salary_in_usd', data=df)"
   ]
  },
  {
   "cell_type": "code",
   "execution_count": 86,
   "metadata": {},
   "outputs": [],
   "source": [
    "import pickle"
   ]
  },
  {
   "cell_type": "code",
   "execution_count": 87,
   "metadata": {},
   "outputs": [],
   "source": [
    "le = LabelEncoder()\n",
    "categories = ['experience_level', 'remote_ratio', 'company_size']\n",
    "end_df = df.copy()\n",
    "for i in categories:\n",
    "    le.fit(end_df[i])\n",
    "    end_df[i] = le.transform(end_df[i])"
   ]
  },
  {
   "cell_type": "code",
   "execution_count": 88,
   "metadata": {},
   "outputs": [],
   "source": [
    "end_df = end_df[['experience_level', 'remote_ratio', 'company_size', 'salary_in_usd']]"
   ]
  },
  {
   "cell_type": "code",
   "execution_count": 89,
   "metadata": {},
   "outputs": [
    {
     "data": {
      "text/html": [
       "<div>\n",
       "<style scoped>\n",
       "    .dataframe tbody tr th:only-of-type {\n",
       "        vertical-align: middle;\n",
       "    }\n",
       "\n",
       "    .dataframe tbody tr th {\n",
       "        vertical-align: top;\n",
       "    }\n",
       "\n",
       "    .dataframe thead th {\n",
       "        text-align: right;\n",
       "    }\n",
       "</style>\n",
       "<table border=\"1\" class=\"dataframe\">\n",
       "  <thead>\n",
       "    <tr style=\"text-align: right;\">\n",
       "      <th></th>\n",
       "      <th>experience_level</th>\n",
       "      <th>remote_ratio</th>\n",
       "      <th>company_size</th>\n",
       "      <th>salary_in_usd</th>\n",
       "    </tr>\n",
       "  </thead>\n",
       "  <tbody>\n",
       "    <tr>\n",
       "      <th>0</th>\n",
       "      <td>2</td>\n",
       "      <td>0</td>\n",
       "      <td>0</td>\n",
       "      <td>79833</td>\n",
       "    </tr>\n",
       "    <tr>\n",
       "      <th>1</th>\n",
       "      <td>3</td>\n",
       "      <td>0</td>\n",
       "      <td>2</td>\n",
       "      <td>260000</td>\n",
       "    </tr>\n",
       "    <tr>\n",
       "      <th>2</th>\n",
       "      <td>3</td>\n",
       "      <td>1</td>\n",
       "      <td>1</td>\n",
       "      <td>109024</td>\n",
       "    </tr>\n",
       "    <tr>\n",
       "      <th>3</th>\n",
       "      <td>2</td>\n",
       "      <td>0</td>\n",
       "      <td>2</td>\n",
       "      <td>20000</td>\n",
       "    </tr>\n",
       "    <tr>\n",
       "      <th>4</th>\n",
       "      <td>3</td>\n",
       "      <td>1</td>\n",
       "      <td>0</td>\n",
       "      <td>150000</td>\n",
       "    </tr>\n",
       "    <tr>\n",
       "      <th>...</th>\n",
       "      <td>...</td>\n",
       "      <td>...</td>\n",
       "      <td>...</td>\n",
       "      <td>...</td>\n",
       "    </tr>\n",
       "    <tr>\n",
       "      <th>602</th>\n",
       "      <td>3</td>\n",
       "      <td>2</td>\n",
       "      <td>1</td>\n",
       "      <td>154000</td>\n",
       "    </tr>\n",
       "    <tr>\n",
       "      <th>603</th>\n",
       "      <td>3</td>\n",
       "      <td>2</td>\n",
       "      <td>1</td>\n",
       "      <td>126000</td>\n",
       "    </tr>\n",
       "    <tr>\n",
       "      <th>604</th>\n",
       "      <td>3</td>\n",
       "      <td>0</td>\n",
       "      <td>1</td>\n",
       "      <td>129000</td>\n",
       "    </tr>\n",
       "    <tr>\n",
       "      <th>605</th>\n",
       "      <td>3</td>\n",
       "      <td>2</td>\n",
       "      <td>1</td>\n",
       "      <td>150000</td>\n",
       "    </tr>\n",
       "    <tr>\n",
       "      <th>606</th>\n",
       "      <td>2</td>\n",
       "      <td>2</td>\n",
       "      <td>0</td>\n",
       "      <td>200000</td>\n",
       "    </tr>\n",
       "  </tbody>\n",
       "</table>\n",
       "<p>607 rows × 4 columns</p>\n",
       "</div>"
      ],
      "text/plain": [
       "     experience_level  remote_ratio  company_size  salary_in_usd\n",
       "0                   2             0             0          79833\n",
       "1                   3             0             2         260000\n",
       "2                   3             1             1         109024\n",
       "3                   2             0             2          20000\n",
       "4                   3             1             0         150000\n",
       "..                ...           ...           ...            ...\n",
       "602                 3             2             1         154000\n",
       "603                 3             2             1         126000\n",
       "604                 3             0             1         129000\n",
       "605                 3             2             1         150000\n",
       "606                 2             2             0         200000\n",
       "\n",
       "[607 rows x 4 columns]"
      ]
     },
     "execution_count": 89,
     "metadata": {},
     "output_type": "execute_result"
    }
   ],
   "source": [
    "end_df"
   ]
  },
  {
   "cell_type": "code",
   "execution_count": 90,
   "metadata": {},
   "outputs": [],
   "source": [
    "x = end_df[categories].values\n",
    "y = end_df['salary_in_usd'].values"
   ]
  },
  {
   "cell_type": "code",
   "execution_count": 91,
   "metadata": {},
   "outputs": [],
   "source": [
    "x_train, x_test, y_train, y_test = train_test_split(x, y, test_size=0.2, random_state=42)"
   ]
  },
  {
   "cell_type": "code",
   "execution_count": 92,
   "metadata": {},
   "outputs": [],
   "source": [
    "depth = [x for x in range(12)]\n",
    "depth.append(None)\n",
    "criterion = [x for x in range(30)]\n",
    "neighbors = [x for x in range(30)]"
   ]
  },
  {
   "cell_type": "code",
   "execution_count": 93,
   "metadata": {},
   "outputs": [],
   "source": [
    "rfr_params = {\n",
    "    'criterion': ['squared_error', 'absolute_error', 'poisson'],\n",
    "    'max_depth': depth,\n",
    "    'max_features': ['sqrt', 'log2', None] \n",
    "}\n",
    "dtr_params = {\n",
    "    'criterion': ['squared_error', 'absolute_error', 'poisson', 'friedman_mse'],\n",
    "    'max_depth': depth,\n",
    "    'max_features': ['sqrt', 'log2', None, 'auto']\n",
    "}\n",
    "knn_params = {\n",
    "    'n_neighbors': neighbors,\n",
    "    'weights': ['uniform', 'distance'],\n",
    "    'algorithm': ['auto', 'kd_tree', 'ball_tree', 'brute']\n",
    "}"
   ]
  },
  {
   "cell_type": "code",
   "execution_count": 94,
   "metadata": {},
   "outputs": [],
   "source": [
    "rfr_grid = GridSearchCV(RandomForestRegressor(), param_grid=rfr_params, cv=5)\n",
    "dtr_grid = GridSearchCV(DecisionTreeRegressor(), param_grid=dtr_params, cv=5)\n",
    "knn_grid = GridSearchCV(KNeighborsRegressor(), param_grid=knn_params, cv=5)"
   ]
  },
  {
   "cell_type": "code",
   "execution_count": 95,
   "metadata": {},
   "outputs": [
    {
     "name": "stderr",
     "output_type": "stream",
     "text": [
      "/home/azamat/miniconda3/envs/sklearn-env/lib/python3.10/site-packages/sklearn/model_selection/_validation.py:372: FitFailedWarning: \n",
      "45 fits failed out of a total of 585.\n",
      "The score on these train-test partitions for these parameters will be set to nan.\n",
      "If these failures are not expected, you can try to debug them by setting error_score='raise'.\n",
      "\n",
      "Below are more details about the failures:\n",
      "--------------------------------------------------------------------------------\n",
      "45 fits failed with the following error:\n",
      "Traceback (most recent call last):\n",
      "  File \"/home/azamat/miniconda3/envs/sklearn-env/lib/python3.10/site-packages/sklearn/model_selection/_validation.py\", line 681, in _fit_and_score\n",
      "    estimator.fit(X_train, y_train, **fit_params)\n",
      "  File \"/home/azamat/miniconda3/envs/sklearn-env/lib/python3.10/site-packages/sklearn/ensemble/_forest.py\", line 442, in fit\n",
      "    trees = Parallel(\n",
      "  File \"/home/azamat/miniconda3/envs/sklearn-env/lib/python3.10/site-packages/joblib/parallel.py\", line 1043, in __call__\n",
      "    if self.dispatch_one_batch(iterator):\n",
      "  File \"/home/azamat/miniconda3/envs/sklearn-env/lib/python3.10/site-packages/joblib/parallel.py\", line 861, in dispatch_one_batch\n",
      "    self._dispatch(tasks)\n",
      "  File \"/home/azamat/miniconda3/envs/sklearn-env/lib/python3.10/site-packages/joblib/parallel.py\", line 779, in _dispatch\n",
      "    job = self._backend.apply_async(batch, callback=cb)\n",
      "  File \"/home/azamat/miniconda3/envs/sklearn-env/lib/python3.10/site-packages/joblib/_parallel_backends.py\", line 208, in apply_async\n",
      "    result = ImmediateResult(func)\n",
      "  File \"/home/azamat/miniconda3/envs/sklearn-env/lib/python3.10/site-packages/joblib/_parallel_backends.py\", line 572, in __init__\n",
      "    self.results = batch()\n",
      "  File \"/home/azamat/miniconda3/envs/sklearn-env/lib/python3.10/site-packages/joblib/parallel.py\", line 262, in __call__\n",
      "    return [func(*args, **kwargs)\n",
      "  File \"/home/azamat/miniconda3/envs/sklearn-env/lib/python3.10/site-packages/joblib/parallel.py\", line 262, in <listcomp>\n",
      "    return [func(*args, **kwargs)\n",
      "  File \"/home/azamat/miniconda3/envs/sklearn-env/lib/python3.10/site-packages/sklearn/utils/fixes.py\", line 211, in __call__\n",
      "    return self.function(*args, **kwargs)\n",
      "  File \"/home/azamat/miniconda3/envs/sklearn-env/lib/python3.10/site-packages/sklearn/ensemble/_forest.py\", line 185, in _parallel_build_trees\n",
      "    tree.fit(X, y, sample_weight=curr_sample_weight, check_input=False)\n",
      "  File \"/home/azamat/miniconda3/envs/sklearn-env/lib/python3.10/site-packages/sklearn/tree/_classes.py\", line 1315, in fit\n",
      "    super().fit(\n",
      "  File \"/home/azamat/miniconda3/envs/sklearn-env/lib/python3.10/site-packages/sklearn/tree/_classes.py\", line 306, in fit\n",
      "    raise ValueError(\"max_depth must be greater than zero. \")\n",
      "ValueError: max_depth must be greater than zero. \n",
      "\n",
      "  warnings.warn(some_fits_failed_message, FitFailedWarning)\n",
      "/home/azamat/miniconda3/envs/sklearn-env/lib/python3.10/site-packages/sklearn/model_selection/_search.py:969: UserWarning: One or more of the test scores are non-finite: [       nan        nan        nan 0.11687354 0.12100825 0.14936657\n",
      " 0.17645853 0.17533146 0.19011991 0.21105529 0.21085955 0.26207236\n",
      " 0.24011195 0.23859212 0.28122513 0.25946588 0.25764101 0.2710073\n",
      " 0.27100051 0.26913727 0.26169217 0.25955301 0.26470983 0.26650843\n",
      " 0.26219273 0.26231724 0.26484618 0.26480319 0.26337626 0.26088381\n",
      " 0.26861017 0.26343182 0.26335639 0.2666106  0.26633676 0.26408351\n",
      " 0.26317469 0.26519589 0.2666296         nan        nan        nan\n",
      " 0.12163707 0.1227134  0.1252069  0.16846049 0.16772437 0.16055492\n",
      " 0.19666175 0.2023535  0.23680191 0.22761226 0.23109055 0.26919312\n",
      " 0.25627933 0.25287063 0.25372809 0.26559619 0.26485149 0.24613561\n",
      " 0.2621958  0.26796859 0.25549925 0.25831877 0.25945604 0.25482129\n",
      " 0.26430427 0.26301374 0.25576967 0.25910783 0.2657234  0.25421088\n",
      " 0.25895191 0.26261779 0.25322317 0.26183481 0.26216192 0.25117161\n",
      "        nan        nan        nan 0.07623625 0.07645702 0.09965439\n",
      " 0.14002925 0.14583018 0.13467519 0.18062913 0.17577503 0.16897611\n",
      " 0.22371086 0.22694541 0.24767759 0.25090498 0.25324148 0.27601516\n",
      " 0.26408082 0.26147543 0.27599529 0.27114778 0.26561761 0.26970956\n",
      " 0.26620717 0.26597547 0.27039542 0.26747415 0.26327924 0.27404097\n",
      " 0.26813192 0.26571326 0.27142367 0.2619144  0.2687868  0.27195442\n",
      " 0.26070528 0.26525628 0.26980642]\n",
      "  warnings.warn(\n"
     ]
    },
    {
     "name": "stdout",
     "output_type": "stream",
     "text": [
      "Time required to tune hyperparameters for model is 83.33 seconds\n"
     ]
    },
    {
     "name": "stderr",
     "output_type": "stream",
     "text": [
      "/home/azamat/miniconda3/envs/sklearn-env/lib/python3.10/site-packages/sklearn/model_selection/_validation.py:372: FitFailedWarning: \n",
      "80 fits failed out of a total of 1040.\n",
      "The score on these train-test partitions for these parameters will be set to nan.\n",
      "If these failures are not expected, you can try to debug them by setting error_score='raise'.\n",
      "\n",
      "Below are more details about the failures:\n",
      "--------------------------------------------------------------------------------\n",
      "80 fits failed with the following error:\n",
      "Traceback (most recent call last):\n",
      "  File \"/home/azamat/miniconda3/envs/sklearn-env/lib/python3.10/site-packages/sklearn/model_selection/_validation.py\", line 681, in _fit_and_score\n",
      "    estimator.fit(X_train, y_train, **fit_params)\n",
      "  File \"/home/azamat/miniconda3/envs/sklearn-env/lib/python3.10/site-packages/sklearn/tree/_classes.py\", line 1315, in fit\n",
      "    super().fit(\n",
      "  File \"/home/azamat/miniconda3/envs/sklearn-env/lib/python3.10/site-packages/sklearn/tree/_classes.py\", line 306, in fit\n",
      "    raise ValueError(\"max_depth must be greater than zero. \")\n",
      "ValueError: max_depth must be greater than zero. \n",
      "\n",
      "  warnings.warn(some_fits_failed_message, FitFailedWarning)\n",
      "/home/azamat/miniconda3/envs/sklearn-env/lib/python3.10/site-packages/sklearn/model_selection/_search.py:969: UserWarning: One or more of the test scores are non-finite: [       nan        nan        nan        nan 0.05065355 0.04812496\n",
      " 0.14704586 0.14704586 0.12829504 0.09455569 0.17909062 0.17909062\n",
      " 0.14134598 0.12395489 0.26187029 0.26187029 0.20754788 0.1692034\n",
      " 0.26178592 0.26178592 0.20896502 0.19991923 0.23386582 0.23386582\n",
      " 0.22937951 0.25245545 0.23875584 0.23875584 0.2606426  0.24586438\n",
      " 0.23973222 0.23973222 0.24481005 0.25706508 0.23973222 0.23973222\n",
      " 0.23577751 0.24951325 0.23973222 0.23973222 0.24846192 0.24507024\n",
      " 0.23973222 0.23973222 0.25249886 0.24687724 0.23973222 0.23973222\n",
      " 0.25098099 0.23069544 0.23973222 0.23973222        nan        nan\n",
      "        nan        nan 0.02699535 0.06383884 0.12390143 0.12390143\n",
      " 0.0757344  0.11380396 0.15987763 0.15987763 0.14457317 0.12342141\n",
      " 0.22373396 0.22373396 0.16048527 0.13609289 0.21605433 0.21605433\n",
      " 0.22393348 0.19621827 0.17463865 0.17463865 0.20517554 0.19038151\n",
      " 0.1875437  0.18800032 0.20990382 0.20356561 0.19641053 0.19641053\n",
      " 0.20766511 0.21745989 0.19686716 0.19686716 0.1939127  0.21994877\n",
      " 0.19641053 0.19686716 0.20515325 0.21434327 0.19686716 0.19641053\n",
      " 0.211304   0.21656327 0.19686716 0.19641053 0.19595709 0.20843032\n",
      " 0.19641053 0.19686716        nan        nan        nan        nan\n",
      " 0.11451128 0.01515125 0.08826975 0.08826975 0.07783197 0.12102186\n",
      " 0.14358827 0.14358827 0.09155818 0.16909856 0.13474674 0.13474674\n",
      " 0.20993415 0.17071547 0.19797577 0.19797577 0.20119716 0.17208435\n",
      " 0.26278315 0.26278315 0.22281785 0.25786731 0.27483621 0.27483621\n",
      " 0.24507024 0.24867602 0.25745621 0.25745621 0.24614201 0.2454797\n",
      " 0.25745621 0.25745621 0.24864776 0.24519472 0.25745621 0.25745621\n",
      " 0.24507024 0.25665562 0.25745621 0.25745621 0.24464248 0.24511733\n",
      " 0.25745621 0.25745621 0.2454797  0.25706508 0.25745621 0.25745621\n",
      "        nan        nan        nan        nan 0.03947665 0.0549484\n",
      " 0.14704586 0.14704586 0.13120668 0.05684886 0.17909062 0.17909062\n",
      " 0.17935733 0.19671792 0.26187029 0.26187029 0.19042171 0.1824928\n",
      " 0.26178592 0.26178592 0.23907529 0.20778687 0.23386582 0.23386582\n",
      " 0.2475852  0.25244235 0.23875584 0.23875584 0.25057152 0.24864776\n",
      " 0.23973222 0.23973222 0.2454812  0.24643097 0.23973222 0.23973222\n",
      " 0.25706508 0.25993036 0.23973222 0.23973222 0.24507024 0.2361547\n",
      " 0.23973222 0.23973222 0.24468312 0.24537609 0.23973222 0.23973222\n",
      " 0.24447494 0.24596799 0.23973222 0.23973222]\n",
      "  warnings.warn(\n"
     ]
    },
    {
     "name": "stdout",
     "output_type": "stream",
     "text": [
      "Time required to tune hyperparameters for model is 1.79 seconds\n",
      "Time required to tune hyperparameters for model is 2.6 seconds\n"
     ]
    },
    {
     "name": "stderr",
     "output_type": "stream",
     "text": [
      "/home/azamat/miniconda3/envs/sklearn-env/lib/python3.10/site-packages/sklearn/model_selection/_validation.py:372: FitFailedWarning: \n",
      "40 fits failed out of a total of 1200.\n",
      "The score on these train-test partitions for these parameters will be set to nan.\n",
      "If these failures are not expected, you can try to debug them by setting error_score='raise'.\n",
      "\n",
      "Below are more details about the failures:\n",
      "--------------------------------------------------------------------------------\n",
      "40 fits failed with the following error:\n",
      "Traceback (most recent call last):\n",
      "  File \"/home/azamat/miniconda3/envs/sklearn-env/lib/python3.10/site-packages/sklearn/model_selection/_validation.py\", line 681, in _fit_and_score\n",
      "    estimator.fit(X_train, y_train, **fit_params)\n",
      "  File \"/home/azamat/miniconda3/envs/sklearn-env/lib/python3.10/site-packages/sklearn/neighbors/_regression.py\", line 213, in fit\n",
      "    return self._fit(X, y)\n",
      "  File \"/home/azamat/miniconda3/envs/sklearn-env/lib/python3.10/site-packages/sklearn/neighbors/_base.py\", line 566, in _fit\n",
      "    raise ValueError(\"Expected n_neighbors > 0. Got %d\" % self.n_neighbors)\n",
      "ValueError: Expected n_neighbors > 0. Got 0\n",
      "\n",
      "  warnings.warn(some_fits_failed_message, FitFailedWarning)\n",
      "/home/azamat/miniconda3/envs/sklearn-env/lib/python3.10/site-packages/sklearn/model_selection/_search.py:969: UserWarning: One or more of the test scores are non-finite: [        nan         nan -0.64248723 -0.64248723  0.05707747  0.05362045\n",
      "  0.16338347  0.14051022  0.17790401  0.17238974  0.22842124  0.21505193\n",
      "  0.23881091  0.22867469  0.25514776  0.24211828  0.2548313   0.2457274\n",
      "  0.2636493   0.24544579  0.27655041  0.25638601  0.27789337  0.25789303\n",
      "  0.28137135  0.26046489  0.28529864  0.26038853  0.28371476  0.26310464\n",
      "  0.27244677  0.26063178  0.27998318  0.25891258  0.28219403  0.26067322\n",
      "  0.26841003  0.25846809  0.26450661  0.25718316  0.25960887  0.25571367\n",
      "  0.25504833  0.25577454  0.25810679  0.25808768  0.25661199  0.25723565\n",
      "  0.24802887  0.25624633  0.24461889  0.25593031  0.24151338  0.25594314\n",
      "  0.24009967  0.2565358   0.23811075  0.25468326  0.23778055  0.25637745\n",
      "         nan         nan -0.64248723 -0.64248723  0.05707747  0.05362045\n",
      "  0.16338347  0.14051022  0.17790401  0.17238974  0.22842124  0.21505193\n",
      "  0.23881091  0.22867469  0.25514776  0.24211828  0.2548313   0.2457274\n",
      "  0.2636493   0.24544579  0.27655041  0.25638601  0.27789337  0.25789303\n",
      "  0.28137135  0.26046489  0.28529864  0.26038853  0.28371476  0.26310464\n",
      "  0.27244677  0.26063178  0.27998318  0.25891258  0.28219403  0.26067322\n",
      "  0.26841003  0.25846809  0.26450661  0.25718316  0.25960887  0.25571367\n",
      "  0.25504833  0.25577454  0.25810679  0.25808768  0.25661199  0.25723565\n",
      "  0.24802887  0.25624633  0.24461889  0.25593031  0.24151338  0.25594314\n",
      "  0.24009967  0.2565358   0.23811075  0.25468326  0.23778055  0.25637745\n",
      "         nan         nan -0.62277698 -0.62277698  0.0550764   0.06243886\n",
      "  0.16898084  0.14504534  0.18981711  0.17271975  0.21947933  0.21287717\n",
      "  0.23417223  0.22503577  0.24630527  0.23814889  0.24102948  0.24158442\n",
      "  0.23548772  0.24318636  0.24634926  0.2551698   0.25564242  0.25724165\n",
      "  0.25151019  0.2599261   0.24816586  0.26017769  0.25044908  0.26307074\n",
      "  0.24221849  0.26078507  0.25225443  0.25909461  0.24908684  0.26087131\n",
      "  0.25147685  0.25868403  0.25530111  0.25719397  0.25734945  0.25564337\n",
      "  0.26437904  0.25566838  0.26682233  0.25796699  0.26092381  0.25694141\n",
      "  0.25507175  0.25583212  0.2484664   0.25539291  0.24628222  0.25538125\n",
      "  0.2472897   0.25599312  0.24625084  0.25413571  0.24425431  0.25584375\n",
      "         nan         nan -0.06028788 -0.06028788 -0.03313291 -0.03889583\n",
      "  0.17062885  0.15805552  0.10925053  0.07593175  0.14265379  0.12336444\n",
      "  0.19712224  0.17431094  0.20610331  0.17928902  0.20422985  0.18060799\n",
      "  0.20318924  0.19439487  0.19359821  0.18784752  0.21000409  0.2086941\n",
      "  0.22034989  0.22334761  0.22078649  0.22801029  0.21610964  0.23300003\n",
      "  0.2101005   0.23114843  0.20576493  0.23454811  0.21047886  0.23696767\n",
      "  0.21881238  0.23986592  0.22002659  0.24118289  0.22306741  0.24268161\n",
      "  0.21600259  0.23997184  0.22122384  0.24396948  0.21854296  0.23795577\n",
      "  0.2143374   0.2376957   0.21370912  0.23554307  0.21287893  0.23710968\n",
      "  0.20530793  0.23583626  0.20893929  0.24074787  0.21203102  0.24407327]\n",
      "  warnings.warn(\n"
     ]
    }
   ],
   "source": [
    "import time\n",
    "grids = [rfr_grid, dtr_grid, knn_grid]\n",
    "models = ['RandomForestRegressor', 'DecisionTreeRegressor', 'KNeighborsRegressor']\n",
    "for i in grids:\n",
    "    start = time.time()\n",
    "    i.fit(x_train, y_train)\n",
    "    end = time.time()\n",
    "    print(f'Time required to tune hyperparameters for model is {round(end-start, 2)} seconds')"
   ]
  },
  {
   "cell_type": "code",
   "execution_count": 96,
   "metadata": {},
   "outputs": [
    {
     "name": "stdout",
     "output_type": "stream",
     "text": [
      "{'criterion': 'squared_error', 'max_depth': 4, 'max_features': None}\n",
      "{'criterion': 'poisson', 'max_depth': 6, 'max_features': None}\n",
      "{'algorithm': 'auto', 'n_neighbors': 13, 'weights': 'uniform'}\n"
     ]
    }
   ],
   "source": [
    "for i in grids:\n",
    "    print(i.best_params_)"
   ]
  },
  {
   "cell_type": "code",
   "execution_count": 97,
   "metadata": {},
   "outputs": [],
   "source": [
    "def regressor(model, x, y):\n",
    "    y_pred = model.predict(x)\n",
    "    mae = mean_absolute_error(y_pred, y)\n",
    "    mse = mean_squared_error(y_pred, y)\n",
    "    rmse = np.sqrt(mse)\n",
    "    print(f\"MAE score is: {mae}\")\n",
    "    print(f\"MSE score is: {mse}\")\n",
    "    print(f\"RMSE score is: {rmse}\")"
   ]
  },
  {
   "cell_type": "code",
   "execution_count": 99,
   "metadata": {},
   "outputs": [
    {
     "name": "stdout",
     "output_type": "stream",
     "text": [
      "Score for RandomForestRegressor model\n",
      "MAE score is: 37659.41575495548\n",
      "MSE score is: 2477694354.4126935\n",
      "RMSE score is: 49776.44377024833\n",
      "Score for DecisionTreeRegressor model\n",
      "MAE score is: 37742.058020019605\n",
      "MSE score is: 2534227918.4221087\n",
      "RMSE score is: 50341.11558579238\n",
      "Score for KNeighborsRegressor model\n",
      "MAE score is: 37584.183480453976\n",
      "MSE score is: 2462422945.110244\n",
      "RMSE score is: 49622.80670327147\n"
     ]
    }
   ],
   "source": [
    "for i in range(len(grids)):\n",
    "    print(f\"Score for {models[i]} model\")\n",
    "    regressor(grids[i], x_test, y_test)"
   ]
  },
  {
   "cell_type": "code",
   "execution_count": 100,
   "metadata": {},
   "outputs": [
    {
     "name": "stdout",
     "output_type": "stream",
     "text": [
      "Score for LinearRegression model\n",
      "MAE score is: 40647.37928123691\n",
      "MSE score is: 2707761138.3810134\n",
      "RMSE score is: 52036.15222497733\n"
     ]
    }
   ],
   "source": [
    "lr = LinearRegression()\n",
    "lr.fit(x_train, y_train)\n",
    "print(f\"Score for LinearRegression model\")\n",
    "regressor(lr, x_test, y_test)"
   ]
  },
  {
   "cell_type": "code",
   "execution_count": null,
   "metadata": {},
   "outputs": [],
   "source": []
  }
 ],
 "metadata": {
  "kernelspec": {
   "display_name": "Python 3.10.4",
   "language": "python",
   "name": "python3"
  },
  "language_info": {
   "codemirror_mode": {
    "name": "ipython",
    "version": 3
   },
   "file_extension": ".py",
   "mimetype": "text/x-python",
   "name": "python",
   "nbconvert_exporter": "python",
   "pygments_lexer": "ipython3",
   "version": "3.10.4"
  },
  "orig_nbformat": 4,
  "vscode": {
   "interpreter": {
    "hash": "22687fd6f05a3be26687416c860ad47d04508d20035c03c8d5555f159d277928"
   }
  }
 },
 "nbformat": 4,
 "nbformat_minor": 2
}
