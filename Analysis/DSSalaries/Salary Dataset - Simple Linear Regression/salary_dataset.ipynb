{
 "cells": [
  {
   "cell_type": "code",
   "execution_count": 1,
   "id": "40070b7e",
   "metadata": {},
   "outputs": [],
   "source": [
    "import pandas as pd\n",
    "import numpy as np\n",
    "import torch.nn"
   ]
  },
  {
   "cell_type": "code",
   "execution_count": 2,
   "id": "3e3a27ed",
   "metadata": {},
   "outputs": [],
   "source": [
    "import matplotlib.pyplot as plt\n",
    "import seaborn as sns"
   ]
  },
  {
   "cell_type": "code",
   "execution_count": 3,
   "id": "89f53bea",
   "metadata": {},
   "outputs": [],
   "source": [
    "from sklearn.preprocessing import StandardScaler\n",
    "from sklearn.model_selection import train_test_split\n",
    "from sklearn.linear_model import LinearRegression\n",
    "from sklearn.metrics import mean_absolute_error\n",
    "from sklearn.metrics import mean_squared_error"
   ]
  },
  {
   "cell_type": "code",
   "execution_count": 4,
   "id": "53b59403",
   "metadata": {},
   "outputs": [],
   "source": [
    "df = pd.read_csv(r'Salary_dataset.csv')"
   ]
  },
  {
   "cell_type": "code",
   "execution_count": 5,
   "id": "0020a936",
   "metadata": {},
   "outputs": [
    {
     "data": {
      "text/plain": [
       "(30, 3)"
      ]
     },
     "execution_count": 5,
     "metadata": {},
     "output_type": "execute_result"
    }
   ],
   "source": [
    "df.shape"
   ]
  },
  {
   "cell_type": "code",
   "execution_count": 6,
   "id": "df2948bd",
   "metadata": {},
   "outputs": [
    {
     "data": {
      "text/plain": [
       "<matplotlib.collections.PathCollection at 0x2b325fdfeb0>"
      ]
     },
     "execution_count": 6,
     "metadata": {},
     "output_type": "execute_result"
    },
    {
     "data": {
      "image/png": "[encoded data removed]",
      "text/plain": [
       "<Figure size 432x288 with 1 Axes>"
      ]
     },
     "metadata": {
      "needs_background": "light"
     },
     "output_type": "display_data"
    }
   ],
   "source": [
    "plt.scatter(df['YearsExperience'].values, df['Salary'].values)"
   ]
  },
  {
   "cell_type": "code",
   "execution_count": 7,
   "id": "ea19ab7c",
   "metadata": {},
   "outputs": [],
   "source": [
    "data = df.iloc[:, -2:]\n",
    "data = StandardScaler().fit_transform(data)"
   ]
  },
  {
   "cell_type": "code",
   "execution_count": 8,
   "id": "9cbe1ac8",
   "metadata": {},
   "outputs": [],
   "source": [
    "x = data[:, 0]\n",
    "y = data[:, 1]"
   ]
  },
  {
   "cell_type": "code",
   "execution_count": 9,
   "id": "2608cbf6",
   "metadata": {},
   "outputs": [],
   "source": [
    "x_train, x_test, y_train, y_test = train_test_split(x, y, random_state=42, test_size=0.1, train_size=0.9)"
   ]
  },
  {
   "cell_type": "code",
   "execution_count": 10,
   "id": "5f075158",
   "metadata": {},
   "outputs": [
    {
     "data": {
      "text/plain": [
       "LinearRegression()"
      ]
     },
     "execution_count": 10,
     "metadata": {},
     "output_type": "execute_result"
    }
   ],
   "source": [
    "lr = LinearRegression()\n",
    "lr.fit(x_train.reshape(-1, 1), y_train.reshape(-1, 1))"
   ]
  },
  {
   "cell_type": "code",
   "execution_count": 11,
   "id": "00b25fbf",
   "metadata": {},
   "outputs": [],
   "source": [
    "predictions = lr.predict(x_test.reshape(-1, 1))\n",
    "mae = mean_absolute_error(predictions, y_test.reshape(-1, 1))\n",
    "mse = mean_squared_error(predictions, y_test.reshape(-1, 1))"
   ]
  },
  {
   "cell_type": "code",
   "execution_count": 12,
   "id": "6d465544",
   "metadata": {},
   "outputs": [
    {
     "data": {
      "text/plain": [
       "array([[ 1.48624116],\n",
       "       [-0.1478667 ],\n",
       "       [ 0.99948562]])"
      ]
     },
     "execution_count": 12,
     "metadata": {},
     "output_type": "execute_result"
    }
   ],
   "source": [
    "predictions"
   ]
  },
  {
   "cell_type": "code",
   "execution_count": 13,
   "id": "4095bfbc",
   "metadata": {},
   "outputs": [
    {
     "data": {
      "text/plain": [
       "0.22725791462680558"
      ]
     },
     "execution_count": 13,
     "metadata": {},
     "output_type": "execute_result"
    }
   ],
   "source": [
    "mae"
   ]
  },
  {
   "cell_type": "code",
   "execution_count": 14,
   "id": "ad3b8022",
   "metadata": {},
   "outputs": [
    {
     "data": {
      "text/plain": [
       "0.06723124814976794"
      ]
     },
     "execution_count": 14,
     "metadata": {},
     "output_type": "execute_result"
    }
   ],
   "source": [
    "mse"
   ]
  },
  {
   "cell_type": "code",
   "execution_count": 15,
   "id": "f920f589",
   "metadata": {},
   "outputs": [],
   "source": [
    "class NNLinearRegression(torch.nn.Module):\n",
    "    def __init__(self):\n",
    "        super(NNLinearRegression, self).__init__()\n",
    "        self.linear = torch.nn.Linear(1, 720)\n",
    "        self.linear1 = torch.nn.Linear(720, 1)\n",
    "        \n",
    "    def forward(self, x):\n",
    "        x = x.reshape(-1, 1)\n",
    "        x = self.linear(x)\n",
    "        x = self.linear1(x)\n",
    "        \n",
    "        return torch.nn.functional.relu(x)"
   ]
  },
  {
   "cell_type": "code",
   "execution_count": 16,
   "id": "6e6a5fa2",
   "metadata": {},
   "outputs": [],
   "source": [
    "device = torch.device(\"cuda\" if torch.cuda.is_available() else \"cpu\")"
   ]
  },
  {
   "cell_type": "code",
   "execution_count": 17,
   "id": "043fa46b",
   "metadata": {},
   "outputs": [],
   "source": [
    "nn_lr = NNLinearRegression()\n",
    "nn_lr.to(device)\n",
    "optim = torch.optim.SGD(nn_lr.parameters(), lr=0.01)\n",
    "criterion = torch.nn.MSELoss()"
   ]
  },
  {
   "cell_type": "code",
   "execution_count": 18,
   "id": "41b50470",
   "metadata": {},
   "outputs": [],
   "source": [
    "nn_lr.train()\n",
    "x1_train = torch.Tensor(x_train.T)\n",
    "y1_train = torch.Tensor(y_train.T)"
   ]
  },
  {
   "cell_type": "code",
   "execution_count": 19,
   "id": "5406e8fc",
   "metadata": {},
   "outputs": [
    {
     "name": "stdout",
     "output_type": "stream",
     "text": [
      "Epoch 0, loss: 1.1565173864364624\n",
      "Epoch 5, loss: 0.9665074944496155\n",
      "Epoch 10, loss: 0.9665074944496155\n",
      "Epoch 15, loss: 0.9665074944496155\n"
     ]
    },
    {
     "name": "stderr",
     "output_type": "stream",
     "text": [
      "C:\\Users\\Azamat.Ilyasov\\Anaconda3\\lib\\site-packages\\torch\\nn\\modules\\loss.py:536: UserWarning: Using a target size (torch.Size([27])) that is different to the input size (torch.Size([27, 1])). This will likely lead to incorrect results due to broadcasting. Please ensure they have the same size.\n",
      "  return F.mse_loss(input, target, reduction=self.reduction)\n"
     ]
    }
   ],
   "source": [
    "epochs = 20\n",
    "for i in range(epochs):\n",
    "    pred = nn_lr(x1_train)\n",
    "    loss = criterion(pred, y1_train)\n",
    "    loss.backward()\n",
    "    optim.step()\n",
    "    optim.zero_grad()\n",
    "    if i%5 == 0:\n",
    "        print(\"Epoch {}, loss: {}\".format(str(i), loss.item()))"
   ]
  },
  {
   "cell_type": "code",
   "execution_count": 20,
   "id": "fa1c1244",
   "metadata": {},
   "outputs": [],
   "source": [
    "nn_lr.eval()\n",
    "predictions = nn_lr(torch.Tensor(x_test))"
   ]
  },
  {
   "cell_type": "code",
   "execution_count": 21,
   "id": "1c7091d9",
   "metadata": {},
   "outputs": [
    {
     "data": {
      "text/plain": [
       "tensor([[0.],\n",
       "        [0.],\n",
       "        [0.]], grad_fn=<ReluBackward0>)"
      ]
     },
     "execution_count": 21,
     "metadata": {},
     "output_type": "execute_result"
    }
   ],
   "source": [
    "predictions"
   ]
  }
 ],
 "metadata": {
  "kernelspec": {
   "display_name": "Python 3 (ipykernel)",
   "language": "python",
   "name": "python3"
  },
  "language_info": {
   "codemirror_mode": {
    "name": "ipython",
    "version": 3
   },
   "file_extension": ".py",
   "mimetype": "text/x-python",
   "name": "python",
   "nbconvert_exporter": "python",
   "pygments_lexer": "ipython3",
   "version": "3.9.12"
  }
 },
 "nbformat": 4,
 "nbformat_minor": 5
}
